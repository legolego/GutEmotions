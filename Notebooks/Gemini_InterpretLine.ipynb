{
 "cells": [
  {
   "cell_type": "code",
   "execution_count": 1,
   "metadata": {},
   "outputs": [
    {
     "name": "stderr",
     "output_type": "stream",
     "text": [
      "c:\\gitProjects\\GutEmotions\\.venv\\Lib\\site-packages\\tqdm\\auto.py:21: TqdmWarning: IProgress not found. Please update jupyter and ipywidgets. See https://ipywidgets.readthedocs.io/en/stable/user_install.html\n",
      "  from .autonotebook import tqdm as notebook_tqdm\n"
     ]
    }
   ],
   "source": [
    "import os\n",
    "import google.generativeai as genai\n",
    "import requests\n",
    "import ast\n",
    "import re\n",
    "from PIL import Image"
   ]
  },
  {
   "cell_type": "code",
   "execution_count": 2,
   "metadata": {},
   "outputs": [],
   "source": [
    "genai.configure(api_key=os.environ['GOOGLE_API_KEY'])\n",
    "model = genai.GenerativeModel(model_name=\"models/gemini-1.5-pro-latest\")"
   ]
  },
  {
   "cell_type": "code",
   "execution_count": 3,
   "metadata": {},
   "outputs": [],
   "source": [
    "# response = model.generate_content(\"Please give me python function code to read in a .png image file from a local folder and store it in a variable.\")\n",
    "# print(response.text)"
   ]
  },
  {
   "cell_type": "code",
   "execution_count": 4,
   "metadata": {},
   "outputs": [
    {
     "name": "stdout",
     "output_type": "stream",
     "text": [
      "deleting: files/blq5214gqrcw line_down\n",
      "Uploaded file 'up_down_up_down_up' as: https://generativelanguage.googleapis.com/v1beta/files/96h7togypldq\n"
     ]
    }
   ],
   "source": [
    "files = genai.list_files()\n",
    "for f in files:\n",
    "    print('deleting:', f.name, f.display_name)\n",
    "    genai.delete_file(f.name)\n",
    "\n",
    "image_path = \"../data/lines/up_down_up_down_up.png\"\n",
    "image_name = image_path[image_path.rindex('/')+1:image_path.rindex('.')]\n",
    "\n",
    "file_up = genai.upload_file(path=image_path,\n",
    "                                display_name=image_name)\n",
    "\n",
    "print(f\"Uploaded file '{file_up.display_name}' as: {file_up.uri}\")"
   ]
  },
  {
   "cell_type": "code",
   "execution_count": 5,
   "metadata": {},
   "outputs": [
    {
     "data": {
      "text/plain": [
       "'up_down_up_down_up'"
      ]
     },
     "execution_count": 5,
     "metadata": {},
     "output_type": "execute_result"
    }
   ],
   "source": [
    "image_path[image_path.rindex('/')+1:image_path.rindex('.')]"
   ]
  },
  {
   "cell_type": "code",
   "execution_count": 6,
   "metadata": {},
   "outputs": [
    {
     "name": "stdout",
     "output_type": "stream",
     "text": [
      "files/96h7togypldq up_down_up_down_up\n"
     ]
    },
    {
     "data": {
      "text/plain": [
       "'files/96h7togypldq'"
      ]
     },
     "execution_count": 6,
     "metadata": {},
     "output_type": "execute_result"
    }
   ],
   "source": [
    "files = genai.list_files()\n",
    "for f in files:\n",
    "    print(f.name, f.display_name)\n",
    "\n",
    "next(genai.list_files()).name"
   ]
  },
  {
   "cell_type": "code",
   "execution_count": 7,
   "metadata": {},
   "outputs": [
    {
     "name": "stdout",
     "output_type": "stream",
     "text": [
      "Retrieved file 'up_down_up_down_up' as: https://generativelanguage.googleapis.com/v1beta/files/96h7togypldq\n"
     ]
    }
   ],
   "source": [
    "first_file = genai.get_file(name=next(genai.list_files()).name)\n",
    "print(f\"Retrieved file '{first_file.display_name}' as: {first_file.uri}\")"
   ]
  },
  {
   "cell_type": "code",
   "execution_count": 21,
   "metadata": {},
   "outputs": [
    {
     "name": "stdout",
     "output_type": "stream",
     "text": [
      "```python\n",
      "[\n",
      "    (0.0, -0.45), (0.5, 0.4), (1.05, -0.45), \n",
      "    (1.6, 0.55), (2.15, -0.55), (2.75, 0.65), \n",
      "    (3.25, -0.7), (3.8, 0.65), (4.35, -0.65), \n",
      "    (4.9, 0.5), (5.5, -0.4), (6.0, 0.3), \n",
      "    (6.5, -0.2), (7.05, 0.1), (7.6, 0.0),\n",
      "    (8.1, 0.2), (8.7, 0.4), (9.2, 0.6),\n",
      "    (9.7, 0.8), (10.2, 1.0)\n",
      "]\n",
      "```\n"
     ]
    }
   ],
   "source": [
    "prompt = \"Can you give me an approximate function to describe this line, keeping the y values between -1 and +1?\"\n",
    "prompt = \"Can you break this line into 20 pieces and give me approximate x,y coordinates for each piece, with x starting at 0, and with the top of the image equal to 100, and the bottom of the image equal to -100, returning an array that should be assignable to a python variable using: ast.literal_eval()?\"\n",
    "prompt = \"Can you break this line into 20 pieces and give me approximate x,y coordinates for each piece, with x starting at 0, and with the vertical center equal to 0 on the y-axis, returning an array that should be assignable to a python variable using: ast.literal_eval()?\"\n",
    "\n",
    "response = model.generate_content([prompt, first_file])\n",
    "\n",
    "print(response.text)"
   ]
  },
  {
   "cell_type": "code",
   "execution_count": 22,
   "metadata": {},
   "outputs": [
    {
     "data": {
      "text/plain": [
       "'[\\n    (0.0, -0.45), (0.5, 0.4), (1.05, -0.45), \\n    (1.6, 0.55), (2.15, -0.55), (2.75, 0.65), \\n    (3.25, -0.7), (3.8, 0.65), (4.35, -0.65), \\n    (4.9, 0.5), (5.5, -0.4), (6.0, 0.3), \\n    (6.5, -0.2), (7.05, 0.1), (7.6, 0.0),\\n    (8.1, 0.2), (8.7, 0.4), (9.2, 0.6),\\n    (9.7, 0.8), (10.2, 1.0)\\n]'"
      ]
     },
     "execution_count": 22,
     "metadata": {},
     "output_type": "execute_result"
    }
   ],
   "source": [
    "response.text[response.text.index('['):response.text.rindex(']')+1]"
   ]
  },
  {
   "cell_type": "code",
   "execution_count": 23,
   "metadata": {},
   "outputs": [
    {
     "data": {
      "text/plain": [
       "[(0.0, -0.45),\n",
       " (0.5, 0.4),\n",
       " (1.05, -0.45),\n",
       " (1.6, 0.55),\n",
       " (2.15, -0.55),\n",
       " (2.75, 0.65),\n",
       " (3.25, -0.7),\n",
       " (3.8, 0.65),\n",
       " (4.35, -0.65),\n",
       " (4.9, 0.5),\n",
       " (5.5, -0.4),\n",
       " (6.0, 0.3),\n",
       " (6.5, -0.2),\n",
       " (7.05, 0.1),\n",
       " (7.6, 0.0),\n",
       " (8.1, 0.2),\n",
       " (8.7, 0.4),\n",
       " (9.2, 0.6),\n",
       " (9.7, 0.8),\n",
       " (10.2, 1.0)]"
      ]
     },
     "execution_count": 23,
     "metadata": {},
     "output_type": "execute_result"
    }
   ],
   "source": [
    "arr = ast.literal_eval(response.text[response.text.index('['):response.text.rindex(']')+1])\n",
    "arr"
   ]
  },
  {
   "cell_type": "code",
   "execution_count": 15,
   "metadata": {},
   "outputs": [
    {
     "ename": "TypeError",
     "evalue": "list indices must be integers or slices, not tuple",
     "output_type": "error",
     "traceback": [
      "\u001b[1;31m---------------------------------------------------------------------------\u001b[0m",
      "\u001b[1;31mTypeError\u001b[0m                                 Traceback (most recent call last)",
      "Cell \u001b[1;32mIn[15], line 1\u001b[0m\n\u001b[1;32m----> 1\u001b[0m \u001b[43marr\u001b[49m\u001b[43m[\u001b[49m\u001b[43m:\u001b[49m\u001b[43m,\u001b[49m\u001b[43m \u001b[49m\u001b[38;5;241;43m1\u001b[39;49m\u001b[43m]\u001b[49m\u001b[38;5;241m.\u001b[39mmin()\n",
      "\u001b[1;31mTypeError\u001b[0m: list indices must be integers or slices, not tuple"
     ]
    }
   ],
   "source": [
    "arr[:, 1].min()"
   ]
  },
  {
   "cell_type": "code",
   "execution_count": 12,
   "metadata": {},
   "outputs": [
    {
     "name": "stdout",
     "output_type": "stream",
     "text": [
      "```python\n",
      "import numpy as np\n",
      "\n",
      "def normalize_second_value(arr):\n",
      "  \"\"\"\n",
      "  Normalizes the second value of each subarray in a 2D numpy array to the range [-1, 1].\n",
      "\n",
      "  Args:\n",
      "    arr: A 2D numpy array.\n",
      "\n",
      "  Returns:\n",
      "    A new 2D numpy array with the second value of each subarray normalized.\n",
      "  \"\"\"\n",
      "\n",
      "  # Create a copy to avoid modifying the original array\n",
      "  normalized_arr = arr.copy()\n",
      "\n",
      "  # Find the minimum and maximum values of the second column\n",
      "  min_val = normalized_arr[:, 1].min()\n",
      "  max_val = normalized_arr[:, 1].max()\n",
      "\n",
      "  # Normalize the second column\n",
      "  normalized_arr[:, 1] = 2 * (normalized_arr[:, 1] - min_val) / (max_val - min_val) - 1\n",
      "\n",
      "  return normalized_arr\n",
      "```\n",
      "\n"
     ]
    }
   ],
   "source": [
    "response = model.generate_content(\"Please give me a python function to read in a numpy two dimensional array variable, normalizing the second value between -1 and +1.\")\n",
    "print(response.text)"
   ]
  },
  {
   "cell_type": "code",
   "execution_count": 13,
   "metadata": {},
   "outputs": [],
   "source": [
    "def normalize_second_value(arr):\n",
    "  \"\"\"\n",
    "  Normalizes the second value of each subarray in a 2D numpy array to the range [-1, 1].\n",
    "\n",
    "  Args:\n",
    "    arr: A 2D numpy array.\n",
    "\n",
    "  Returns:\n",
    "    A new 2D numpy array with the second value of each subarray normalized.\n",
    "  \"\"\"\n",
    "\n",
    "  # Create a copy to avoid modifying the original array\n",
    "  normalized_arr = arr.copy()\n",
    "\n",
    "  # Find the minimum and maximum values of the second column\n",
    "  min_val = normalized_arr[:, 1].min()\n",
    "  max_val = normalized_arr[:, 1].max()\n",
    "\n",
    "  # Normalize the second column\n",
    "  normalized_arr[:, 1] = 2 * (normalized_arr[:, 1] - min_val) / (max_val - min_val) - 1\n",
    "\n",
    "  return normalized_arr"
   ]
  },
  {
   "cell_type": "code",
   "execution_count": 14,
   "metadata": {},
   "outputs": [
    {
     "ename": "TypeError",
     "evalue": "list indices must be integers or slices, not tuple",
     "output_type": "error",
     "traceback": [
      "\u001b[1;31m---------------------------------------------------------------------------\u001b[0m",
      "\u001b[1;31mTypeError\u001b[0m                                 Traceback (most recent call last)",
      "Cell \u001b[1;32mIn[14], line 1\u001b[0m\n\u001b[1;32m----> 1\u001b[0m \u001b[43mnormalize_second_value\u001b[49m\u001b[43m(\u001b[49m\u001b[43marr\u001b[49m\u001b[43m)\u001b[49m\n",
      "Cell \u001b[1;32mIn[13], line 16\u001b[0m, in \u001b[0;36mnormalize_second_value\u001b[1;34m(arr)\u001b[0m\n\u001b[0;32m     13\u001b[0m normalized_arr \u001b[38;5;241m=\u001b[39m arr\u001b[38;5;241m.\u001b[39mcopy()\n\u001b[0;32m     15\u001b[0m \u001b[38;5;66;03m# Find the minimum and maximum values of the second column\u001b[39;00m\n\u001b[1;32m---> 16\u001b[0m min_val \u001b[38;5;241m=\u001b[39m \u001b[43mnormalized_arr\u001b[49m\u001b[43m[\u001b[49m\u001b[43m:\u001b[49m\u001b[43m,\u001b[49m\u001b[43m \u001b[49m\u001b[38;5;241;43m1\u001b[39;49m\u001b[43m]\u001b[49m\u001b[38;5;241m.\u001b[39mmin()\n\u001b[0;32m     17\u001b[0m max_val \u001b[38;5;241m=\u001b[39m normalized_arr[:, \u001b[38;5;241m1\u001b[39m]\u001b[38;5;241m.\u001b[39mmax()\n\u001b[0;32m     19\u001b[0m \u001b[38;5;66;03m# Normalize the second column\u001b[39;00m\n",
      "\u001b[1;31mTypeError\u001b[0m: list indices must be integers or slices, not tuple"
     ]
    }
   ],
   "source": [
    "normalize_second_value(arr)"
   ]
  }
 ],
 "metadata": {
  "kernelspec": {
   "display_name": ".venv",
   "language": "python",
   "name": "python3"
  },
  "language_info": {
   "codemirror_mode": {
    "name": "ipython",
    "version": 3
   },
   "file_extension": ".py",
   "mimetype": "text/x-python",
   "name": "python",
   "nbconvert_exporter": "python",
   "pygments_lexer": "ipython3",
   "version": "3.11.2"
  }
 },
 "nbformat": 4,
 "nbformat_minor": 2
}
