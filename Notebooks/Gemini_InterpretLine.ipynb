{
 "cells": [
  {
   "cell_type": "code",
   "execution_count": 1,
   "metadata": {},
   "outputs": [
    {
     "name": "stderr",
     "output_type": "stream",
     "text": [
      "c:\\gitProjects\\GutEmotions\\.venv\\Lib\\site-packages\\tqdm\\auto.py:21: TqdmWarning: IProgress not found. Please update jupyter and ipywidgets. See https://ipywidgets.readthedocs.io/en/stable/user_install.html\n",
      "  from .autonotebook import tqdm as notebook_tqdm\n"
     ]
    }
   ],
   "source": [
    "import os\n",
    "import google.generativeai as genai\n",
    "import requests\n",
    "import ast\n",
    "import re\n",
    "import numpy as np\n",
    "from PIL import Image\n",
    "import matplotlib.pyplot as plt "
   ]
  },
  {
   "cell_type": "code",
   "execution_count": 2,
   "metadata": {},
   "outputs": [],
   "source": [
    "genai.configure(api_key=os.environ['GOOGLE_API_KEY'])\n",
    "model = genai.GenerativeModel(model_name=\"models/gemini-1.5-pro-latest\")"
   ]
  },
  {
   "cell_type": "code",
   "execution_count": 3,
   "metadata": {},
   "outputs": [],
   "source": [
    "# response = model.generate_content(\"Please give me python function code to read in a .png image file from a local folder and store it in a variable.\")\n",
    "# print(response.text)"
   ]
  },
  {
   "cell_type": "code",
   "execution_count": 451,
   "metadata": {},
   "outputs": [
    {
     "name": "stdout",
     "output_type": "stream",
     "text": [
      "deleting: files/4a2hpa9l295 up_down_up_down_up\n",
      "Uploaded file 'smiles' as: https://generativelanguage.googleapis.com/v1beta/files/s868l08fvldf\n"
     ]
    }
   ],
   "source": [
    "files = genai.list_files()\n",
    "for f in files:\n",
    "    print('deleting:', f.name, f.display_name)\n",
    "    genai.delete_file(f.name)\n",
    "\n",
    "image_path = \"../data/lines/smiles.png\"\n",
    "image_name = image_path[image_path.rindex('/')+1:image_path.rindex('.')]\n",
    "\n",
    "file_up = genai.upload_file(path=image_path,\n",
    "                                display_name=image_name)\n",
    "\n",
    "print(f\"Uploaded file '{file_up.display_name}' as: {file_up.uri}\")"
   ]
  },
  {
   "cell_type": "code",
   "execution_count": 452,
   "metadata": {},
   "outputs": [
    {
     "data": {
      "text/plain": [
       "'smiles'"
      ]
     },
     "execution_count": 452,
     "metadata": {},
     "output_type": "execute_result"
    }
   ],
   "source": [
    "image_path[image_path.rindex('/')+1:image_path.rindex('.')]"
   ]
  },
  {
   "cell_type": "code",
   "execution_count": 453,
   "metadata": {},
   "outputs": [
    {
     "name": "stdout",
     "output_type": "stream",
     "text": [
      "files/s868l08fvldf smiles\n"
     ]
    },
    {
     "data": {
      "text/plain": [
       "'files/s868l08fvldf'"
      ]
     },
     "execution_count": 453,
     "metadata": {},
     "output_type": "execute_result"
    }
   ],
   "source": [
    "files = genai.list_files()\n",
    "for f in files:\n",
    "    print(f.name, f.display_name)\n",
    "\n",
    "next(genai.list_files()).name"
   ]
  },
  {
   "cell_type": "code",
   "execution_count": 454,
   "metadata": {},
   "outputs": [
    {
     "name": "stdout",
     "output_type": "stream",
     "text": [
      "Retrieved file 'smiles' as: https://generativelanguage.googleapis.com/v1beta/files/s868l08fvldf\n"
     ]
    }
   ],
   "source": [
    "first_file = genai.get_file(name=next(genai.list_files()).name)\n",
    "print(f\"Retrieved file '{first_file.display_name}' as: {first_file.uri}\")"
   ]
  },
  {
   "cell_type": "code",
   "execution_count": 462,
   "metadata": {},
   "outputs": [
    {
     "name": "stdout",
     "output_type": "stream",
     "text": [
      "```python\n",
      "ast.literal_eval('''\n",
      "[\n",
      "    [0.0, -0.9],\n",
      "    [0.25, -0.8],\n",
      "    [0.5, -0.7],\n",
      "    [0.75, -0.4],\n",
      "    [1.0, -0.2],\n",
      "    [1.25, 0.0],\n",
      "    [1.5, 0.3],\n",
      "    [1.7, 0.7],\n",
      "    [1.9, 0.9],\n",
      "    [2.1, 0.7],\n",
      "    [2.3, 0.3],\n",
      "    [2.5, -0.1],\n",
      "    [2.7, -0.4],\n",
      "    [2.9, -0.7],\n",
      "    [3.1, -0.9],\n",
      "    [3.3, -0.8],\n",
      "    [3.5, -0.5],\n",
      "    [3.75, -0.2],\n",
      "    [4.0, 0.0],\n",
      "    [4.25, 0.3],\n",
      "    [4.5, 0.7],\n",
      "    [4.7, 0.9],\n",
      "    [4.9, 0.6],\n",
      "    [5.1, 0.3],\n",
      "    [5.3, 0.0],\n",
      "    [5.55, -0.3],\n",
      "    [5.8, -0.6],\n",
      "    [6.05, -0.8],\n",
      "    [6.3, -0.9],\n",
      "    [6.55, -0.7]\n",
      "]\n",
      "''')\n",
      "```\n"
     ]
    }
   ],
   "source": [
    "prompt = \"Can you give me an approximate function to describe this line, keeping the y values between -1 and +1?\"\n",
    "prompt = \"Can you break this line into 20 pieces and give me approximate x,y coordinates for each piece, with x starting at 0, and with the top of the image equal to 100, and the bottom of the image equal to -100, returning an array that should be assignable to a python variable using: ast.literal_eval()?\"\n",
    "prompt = \"Can you break this line into 200 pieces and give me approximate x,y coordinates for each piece in order, starting with x equal to 0, and with the vertical center equal to 0 on the y-axis, returning an array that should be assignable to a python variable using: ast.literal_eval()?\"\n",
    "\n",
    "prompt = \"Can you summarize the this line, including a point for the very beginning and a point for the very end, into a number of pieces needed for a smooth approximation. Give me approximate x,y coordinates for each important point in order, starting with x equal to 0, and with the vertical center equal to 0 on the y-axis, returning an array that should be assignable to a python variable using: ast.literal_eval()?\"\n",
    "\n",
    "prompt = \"Can you break this line into about 30 points, including a point for the very beginning and a point for the very end, into a number of points needed for a smooth approximation. Give me approximate x,y coordinates for each important point in order, starting with x equal to 0, and with the vertical center equal to 0 on the y-axis, returning an array that should be assignable to a python variable using: ast.literal_eval()?\"\n",
    "\n",
    "# prompt = \"Can you give me an approximation for the leftmost point and rightmost point for this line? Give me approximate x,y coordinates for both points in order, starting with x equal to 0, and with the vertical center equal to 0 on the y-axis, returning an array that should be assignable to a python variable using: ast.literal_eval()?\"\n",
    "\n",
    "# prompt = \"Can you give me an approximation for the leftmost point and rightmost point for this line? The bottom left corner of the image should have coordinates (0, -1) and the top right corner should have coordinates (20, 1). Give me approximate x,y coordinates for both points in order, starting with x equal to 0, returning an array that should be assignable to a python variable using: ast.literal_eval()?\"\n",
    "\n",
    "#prompt = \"Can you give me a set of points that approximate this line? The bottom left corner of the image should have coordinates (0, -1) and the top right corner should have coordinates (20, 1). Give me approximate x,y coordinates for the important points in order, starting with x equal to 0, returning an array that should be assignable to a python variable using: ast.literal_eval()?\"\n",
    "\n",
    "#prompt = \"You are a geometry teacher. Can you give me a set of points that approximate this line into a smooth approximation? The bottom-left corner of the image should have coordinates (0, -1) and the top-right corner should have a y coordinate of 1. Give me approximate x,y coordinates for the important points of the line in order, starting with x equal to 0, returning an array that should be assignable to a python variable using: ast.literal_eval()?\"\n",
    "\n",
    "#prompt = \"Can you summarize the this line, including a point for the very beginning and a point for the very end, into about 20 pieces. Give me approximate x,y coordinates for each point in order, starting with x equal to 0, and with the vertical center equal to 0 on the y-axis, returning an array that should be assignable to a python variable using: ast.literal_eval()?\"\n",
    "\n",
    "response = model.generate_content([prompt, first_file])\n",
    "\n",
    "print(response.text)"
   ]
  },
  {
   "cell_type": "code",
   "execution_count": 463,
   "metadata": {},
   "outputs": [
    {
     "data": {
      "text/plain": [
       "'[\\n    [0.0, -0.9],\\n    [0.25, -0.8],\\n    [0.5, -0.7],\\n    [0.75, -0.4],\\n    [1.0, -0.2],\\n    [1.25, 0.0],\\n    [1.5, 0.3],\\n    [1.7, 0.7],\\n    [1.9, 0.9],\\n    [2.1, 0.7],\\n    [2.3, 0.3],\\n    [2.5, -0.1],\\n    [2.7, -0.4],\\n    [2.9, -0.7],\\n    [3.1, -0.9],\\n    [3.3, -0.8],\\n    [3.5, -0.5],\\n    [3.75, -0.2],\\n    [4.0, 0.0],\\n    [4.25, 0.3],\\n    [4.5, 0.7],\\n    [4.7, 0.9],\\n    [4.9, 0.6],\\n    [5.1, 0.3],\\n    [5.3, 0.0],\\n    [5.55, -0.3],\\n    [5.8, -0.6],\\n    [6.05, -0.8],\\n    [6.3, -0.9],\\n    [6.55, -0.7]\\n]'"
      ]
     },
     "execution_count": 463,
     "metadata": {},
     "output_type": "execute_result"
    }
   ],
   "source": [
    "response.text[response.text.index('['):response.text.rindex(']')+1]"
   ]
  },
  {
   "cell_type": "code",
   "execution_count": 475,
   "metadata": {},
   "outputs": [
    {
     "data": {
      "text/plain": [
       "array([-0.9, -0.8, -0.7, -0.4, -0.2,  0. ,  0.3,  0.7,  0.9,  0.7,  0.3,\n",
       "       -0.1, -0.4, -0.7, -0.9, -0.8, -0.5, -0.2,  0. ,  0.3,  0.7,  0.9,\n",
       "        0.6,  0.3,  0. , -0.3, -0.6, -0.8, -0.9, -0.7])"
      ]
     },
     "execution_count": 475,
     "metadata": {},
     "output_type": "execute_result"
    }
   ],
   "source": [
    "arr = np.array(ast.literal_eval(response.text[response.text.index('['):response.text.rindex(']')+1]))[:,1]\n",
    "arr"
   ]
  },
  {
   "cell_type": "code",
   "execution_count": 465,
   "metadata": {},
   "outputs": [],
   "source": [
    "# response = model.generate_content(\"Please give me a python function to read in a numpy two dimensional array variable, normalizing the second value between -1 and +1.\")\n",
    "# print(response.text)"
   ]
  },
  {
   "cell_type": "code",
   "execution_count": 476,
   "metadata": {},
   "outputs": [
    {
     "data": {
      "image/png": "[encoded data removed]",
      "text/plain": [
       "<Figure size 640x480 with 1 Axes>"
      ]
     },
     "metadata": {},
     "output_type": "display_data"
    }
   ],
   "source": [
    "arr_to_plot = arr\n",
    "\n",
    "# data to be plotted\n",
    "#x = arr_to_plot[:,0]\n",
    "y = arr_to_plot #[:,1]\n",
    " \n",
    "# plotting\n",
    "plt.title(first_file.display_name) \n",
    "plt.xlabel(\"X axis\") \n",
    "plt.ylabel(\"Y axis\") \n",
    "plt.plot(y, color =\"red\") \n",
    "plt.ylim(-1, 1)\n",
    "plt.show()"
   ]
  }
 ],
 "metadata": {
  "kernelspec": {
   "display_name": ".venv",
   "language": "python",
   "name": "python3"
  },
  "language_info": {
   "codemirror_mode": {
    "name": "ipython",
    "version": 3
   },
   "file_extension": ".py",
   "mimetype": "text/x-python",
   "name": "python",
   "nbconvert_exporter": "python",
   "pygments_lexer": "ipython3",
   "version": "3.11.2"
  }
 },
 "nbformat": 4,
 "nbformat_minor": 2
}
