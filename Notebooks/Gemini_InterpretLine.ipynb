{
 "cells": [
  {
   "cell_type": "code",
   "execution_count": 1,
   "metadata": {},
   "outputs": [],
   "source": [
    "import os\n",
    "import google.generativeai as genai\n",
    "import requests\n",
    "import ast\n",
    "import re\n",
    "import numpy as np\n",
    "import PIL.Image\n",
    "import matplotlib.pyplot as plt\n",
    "from IPython.display import Image\n",
    "from IPython.core.display import HTML\n",
    "\n"
   ]
  },
  {
   "cell_type": "code",
   "execution_count": 2,
   "metadata": {},
   "outputs": [
    {
     "name": "stdout",
     "output_type": "stream",
     "text": [
      "genai.GenerativeModel(\n",
      "    model_name='models/gemini-1.5-pro-latest',\n",
      "    generation_config={},\n",
      "    safety_settings={},\n",
      "    tools=None,\n",
      "    system_instruction=None,\n",
      ")\n"
     ]
    }
   ],
   "source": [
    "genai.configure(api_key=os.environ['GOOGLE_API_KEY'])\n",
    "model = genai.GenerativeModel(model_name=\"models/gemini-1.5-pro-latest\")\n",
    "print(model)"
   ]
  },
  {
   "cell_type": "code",
   "execution_count": 3,
   "metadata": {},
   "outputs": [],
   "source": [
    "def plot_1d_array(arr, title = \"Line plot\"):\n",
    "    plt.cla()\n",
    "    plt.clf()\n",
    "    plt.title(title)\n",
    "    plt.xlabel(\"X axis\")\n",
    "    plt.ylabel(\"Y axis\")\n",
    "    plt.plot(arr, color =\"green\")\n",
    "    plt.ylim(-1.2, 1.2)\n",
    "    plt.show()\n",
    "\n",
    "# response = model.generate_content(\"Please give me python function code to read in a .png image file from a local folder and store it in a variable.\")\n",
    "# print(response.text)"
   ]
  },
  {
   "cell_type": "code",
   "execution_count": 4,
   "metadata": {},
   "outputs": [],
   "source": [
    "def list_files_get_first():\n",
    "    files = genai.list_files()\n",
    "    for f in files:\n",
    "        print(f.name, f.display_name)\n",
    "    return next(genai.list_files())\n",
    "\n",
    "\n",
    "def upload_file_to_gemini(image_path):\n",
    "    image_name = image_path[image_path.rindex('/')+1:image_path.rindex('.')]\n",
    "    file_up = genai.upload_file(path=image_path,\n",
    "                                    display_name=image_name)\n",
    "\n",
    "    print(f\"Uploaded file '{file_up.display_name}' as: {file_up.uri}\")\n",
    "    return file_up\n",
    "\n",
    "\n",
    "def delete_all_files():\n",
    "    files = genai.list_files()\n",
    "    for f in files:\n",
    "        print('deleting:', f.name, f.display_name)\n",
    "        genai.delete_file(f.name)\n",
    "\n",
    "\n",
    "def delete_all_and_upload(image_path):\n",
    "    delete_all_files()\n",
    "    return upload_file_to_gemini(image_path)\n",
    "\n",
    "\n",
    "def get_raw_array_from_gemini(response):\n",
    "    literal = response.text[response.text.index('['):response.text.rindex(']')+1]\n",
    "    arr = np.array(ast.literal_eval(literal))\n",
    "    return arr"
   ]
  },
  {
   "cell_type": "code",
   "execution_count": 5,
   "metadata": {},
   "outputs": [
    {
     "name": "stdout",
     "output_type": "stream",
     "text": [
      "files/fpuy4rig36uw 03542be9b4f1409098343048ab9ad904\n",
      "files/dgqyxdicv4sx 3611020c714740d7b3564d2da961bef5\n",
      "files/te7037chpvwh 54f38fcbe9ca433bb0fd2e2aa55ba906\n",
      "files/sdgyzr5amahb ff0bd5f58ed44f4ea188dfd252f64bbc\n",
      "files/xznwke2bt1xa 156f9edb50a74b6fbd228c08d14f8e2b\n",
      "files/4hbdkrv46vqq 6ea8b8071062403aa29543500c0dc79b\n",
      "files/tosnib0e9fhw 8e42cb0166714231b98e87fd9445564d\n",
      "files/m00wiasihq2n 1a990c15d9364af0ac70fa6657bc8828\n",
      "files/z9ryizmyrchd a36fcdb4c72a41bb89b5d436f0c0bf57\n",
      "files/7u3cri08yzda 019423f395044b57ba7f081f71e9fe79\n",
      "files/7avgk7dr4c08 fad95840a3d64baf9148b45469185b0a\n",
      "files/p684pq7cnu9s sin\n",
      "files/wzrfp6y7a339 frown\n",
      "files/u48dcdcffzn7 smile\n",
      "files/ojc4bfvu4qkv zero_down\n",
      "files/3qapmw2u6mbj zero_up\n",
      "files/yghn029mgxyd zero\n",
      "files/2fb1g7kcuj8i up_down_up_down_up\n",
      "files/o2fz6mllymjk minus_one\n",
      "files/4uamm60g9s6p plus_one\n",
      "files/3cm8x40f3l6v line_down\n",
      "files/4uxwfgh93bgo line_up\n",
      "files/ng0txjhsoqfo smiles\n",
      "Retrieved file '03542be9b4f1409098343048ab9ad904' as: https://generativelanguage.googleapis.com/v1beta/files/fpuy4rig36uw\n"
     ]
    }
   ],
   "source": [
    "first_file = list_files_get_first()\n",
    "print(f\"Retrieved file '{first_file.display_name}' as: {first_file.uri}\")"
   ]
  },
  {
   "cell_type": "code",
   "execution_count": 6,
   "metadata": {},
   "outputs": [
    {
     "name": "stdout",
     "output_type": "stream",
     "text": [
      "deleting: files/fpuy4rig36uw 03542be9b4f1409098343048ab9ad904\n",
      "deleting: files/dgqyxdicv4sx 3611020c714740d7b3564d2da961bef5\n",
      "deleting: files/te7037chpvwh 54f38fcbe9ca433bb0fd2e2aa55ba906\n",
      "deleting: files/sdgyzr5amahb ff0bd5f58ed44f4ea188dfd252f64bbc\n",
      "deleting: files/xznwke2bt1xa 156f9edb50a74b6fbd228c08d14f8e2b\n",
      "deleting: files/4hbdkrv46vqq 6ea8b8071062403aa29543500c0dc79b\n",
      "deleting: files/tosnib0e9fhw 8e42cb0166714231b98e87fd9445564d\n",
      "deleting: files/m00wiasihq2n 1a990c15d9364af0ac70fa6657bc8828\n",
      "deleting: files/z9ryizmyrchd a36fcdb4c72a41bb89b5d436f0c0bf57\n",
      "deleting: files/7u3cri08yzda 019423f395044b57ba7f081f71e9fe79\n",
      "deleting: files/7avgk7dr4c08 fad95840a3d64baf9148b45469185b0a\n",
      "deleting: files/p684pq7cnu9s sin\n",
      "deleting: files/wzrfp6y7a339 frown\n",
      "deleting: files/u48dcdcffzn7 smile\n",
      "deleting: files/ojc4bfvu4qkv zero_down\n",
      "deleting: files/3qapmw2u6mbj zero_up\n",
      "deleting: files/yghn029mgxyd zero\n",
      "deleting: files/2fb1g7kcuj8i up_down_up_down_up\n",
      "deleting: files/o2fz6mllymjk minus_one\n",
      "deleting: files/4uamm60g9s6p plus_one\n",
      "deleting: files/3cm8x40f3l6v line_down\n",
      "deleting: files/4uxwfgh93bgo line_up\n",
      "deleting: files/ng0txjhsoqfo smiles\n",
      "Uploaded file 'smiles' as: https://generativelanguage.googleapis.com/v1beta/files/nwnemhdpz6hq\n",
      "Uploaded file 'line_up' as: https://generativelanguage.googleapis.com/v1beta/files/zr2jofhy6q26\n",
      "Uploaded file 'line_down' as: https://generativelanguage.googleapis.com/v1beta/files/488pa3ecelr\n",
      "Uploaded file 'plus_one' as: https://generativelanguage.googleapis.com/v1beta/files/kvafo4vsrgji\n",
      "Uploaded file 'minus_one' as: https://generativelanguage.googleapis.com/v1beta/files/nqi92hnrel9i\n",
      "Uploaded file 'up_down_up_down_up' as: https://generativelanguage.googleapis.com/v1beta/files/j4wfio8d0j8e\n",
      "Uploaded file 'zero' as: https://generativelanguage.googleapis.com/v1beta/files/nn4t3yhahisf\n",
      "Uploaded file 'zero_up' as: https://generativelanguage.googleapis.com/v1beta/files/j71ceoks3np2\n",
      "Uploaded file 'zero_down' as: https://generativelanguage.googleapis.com/v1beta/files/twg5ch8kztn5\n",
      "Uploaded file 'smile' as: https://generativelanguage.googleapis.com/v1beta/files/tri5e699r17b\n",
      "Uploaded file 'frown' as: https://generativelanguage.googleapis.com/v1beta/files/u8nfkvq3g957\n",
      "Uploaded file 'sin' as: https://generativelanguage.googleapis.com/v1beta/files/llscoklbr5m5\n",
      "response: ```json\n",
      "{\n",
      " \"description\": \"The line starts at the bottom left corner of the image, curves upward, then downward to form a rounded bottom of a shape.  The line then curves upward again to form a point before curving back down and then up to form another point.  This pattern is repeated once more before the line ends in the bottom right corner of the image.\",\n",
      " \"y_coordinates\": [-1, -0.5, 0, -0.5, -1, -0.5, 0, -0.5, -1]\n",
      "}\n",
      "```\n"
     ]
    },
    {
     "data": {
      "text/plain": [
       "array([-1. , -0.5,  0. , -0.5, -1. , -0.5,  0. , -0.5, -1. ])"
      ]
     },
     "execution_count": 6,
     "metadata": {},
     "output_type": "execute_result"
    }
   ],
   "source": [
    "prompt = \"Can you give me an approximate function to describe this line, keeping the y values between -1 and +1?\"\n",
    "prompt = \"Can you break this line into 20 pieces and give me approximate x,y coordinates for each piece, with x starting at 0, and with the top of the image equal to 100, and the bottom of the image equal to -100, returning an array that should be assignable to a python variable using: ast.literal_eval()?\"\n",
    "prompt = \"Can you break this line into 200 pieces and give me approximate x,y coordinates for each piece in order, starting with x equal to 0, and with the vertical center equal to 0 on the y-axis, returning an array that should be assignable to a python variable using: ast.literal_eval()?\"\n",
    "\n",
    "prompt = \"Can you summarize the this line, including a point for the very beginning and a point for the very end, into a number of pieces needed for a smooth approximation. Give me approximate x,y coordinates for each important point in order, starting with x equal to 0, and with the vertical center equal to 0 on the y-axis, returning an array that should be assignable to a python variable using: ast.literal_eval()?\"\n",
    "\n",
    "prompt = \"Can you break this line into about 30 points, including a point for the very beginning and a point for the very end, into a number of points needed for a smooth approximation. Give me approximate x,y coordinates for each important point in order, starting with x equal to 0, and with the vertical center equal to 0 on the y-axis, returning an array that should be assignable to a python variable using: ast.literal_eval()?\"\n",
    "\n",
    "# prompt = \"Can you give me an approximation for the leftmost point and rightmost point for this line? Give me approximate x,y coordinates for both points in order, starting with x equal to 0, and with the vertical center equal to 0 on the y-axis, returning an array that should be assignable to a python variable using: ast.literal_eval()?\"\n",
    "\n",
    "# prompt = \"Can you give me an approximation for the leftmost point and rightmost point for this line? The bottom left corner of the image should have coordinates (0, -1) and the top right corner should have coordinates (20, 1). Give me approximate x,y coordinates for both points in order, starting with x equal to 0, returning an array that should be assignable to a python variable using: ast.literal_eval()?\"\n",
    "\n",
    "#prompt = \"Can you give me a set of points that approximate this line? The bottom left corner of the image should have coordinates (0, -1) and the top right corner should have coordinates (20, 1). Give me approximate x,y coordinates for the important points in order, starting with x equal to 0, returning an array that should be assignable to a python variable using: ast.literal_eval()?\"\n",
    "\n",
    "#prompt = \"You are a geometry teacher. Can you give me a set of points that approximate this line into a smooth approximation? The bottom-left corner of the image should have coordinates (0, -1) and the top-right corner should have a y coordinate of 1. Give me approximate x,y coordinates for the important points of the line in order, starting with x equal to 0, returning an array that should be assignable to a python variable using: ast.literal_eval()?\"\n",
    "\n",
    "#prompt = \"Can you summarize the this line, including a point for the very beginning and a point for the very end, into about 20 pieces. Give me approximate x,y coordinates for each point in order, starting with x equal to 0, and with the vertical center equal to 0 on the y-axis, returning an array that should be assignable to a python variable using: ast.literal_eval()?\"\n",
    "\n",
    "train_smiles = \"../data/lines/smiles.png\"\n",
    "train_smiles_prompt = \"[1,0,-.41,-.73,-1,-.73,-.41,0,1,-.41,-.73,-1,-.73,-.41,0,1,-.41,-.73,-1,-.73,-.41,0,1]\"\n",
    "train_up = \"../data/lines/line_up.png\"\n",
    "train_up_prompt = \"[-1,-.9,-.8,-.7,-.6,-.5,-.4,-.3,-.2,-.1,0,.1,.2,.3,.4,.5,.6,.7,.8,.9,1]\"\n",
    "train_down = \"../data/lines/line_down.png\"\n",
    "train_down_prompt = \"[1,.9,.8,.7,.6,.5,.4,.3,.2,.1,0,-.1,-.2,-.3,-.4,-.5,-.6,-.7,-.8,-.9,-1]\"\n",
    "train_pos1 = \"../data/lines/plus_one.png\"\n",
    "train_pos1_prompt = \"[1,1]\"#,1,1,1,1,1,1,1,1,1,1,1,1,1,1,1,1,1,1,1]\"\n",
    "train_neg1 = \"../data/lines/minus_one.png\"\n",
    "train_neg1_prompt = \"[-1,-1]\"#,-1,-1,-1,-1,-1,-1,-1,-1,-1,-1,-1,-1,-1,-1,-1,-1,-1,-1,-1]\"\n",
    "train_u_d_u_d_u = \"../data/lines/up_down_up_down_up.png\"\n",
    "train_u_d_u_d_u_prompt = \"[-1,-.75,-.5,-.25,0,.25,.5,.75,1,.75,.5,.25,0,-.25,-.5,-.75,-1,-.75,-.5,-.25,0,.25,.5,.75,1,.75,.5,.25,0,-.25,-.5,-.75,-1,-.75,-.5,-.25,0,.25,.5,.75,1]\"\n",
    "train_zero = \"../data/lines/zero.png\"\n",
    "train_zero_prompt = \"[0,0]\"#,0,0,0,0,0,0,0,0,0,0,0,0,0,0,0]\"\n",
    "train_zero_up = \"../data/lines/zero_up.png\"\n",
    "train_zero_up_prompt = \"[0,0,0,0,0,0,0,0,0,0,0,0,.25,.5,.75,1]\"\n",
    "train_zero_down = \"../data/lines/zero_down.png\"\n",
    "train_zero_down_prompt = \"[0,0,0,0,0,0,0,0,0,0,0,0,-.25,-.5,-.75,-1]\"\n",
    "train_smile = \"../data/lines/smile.png\"\n",
    "train_smile_prompt = \"[1,0,-.41,-.73,-1,-.73,-.41,0,1]\"\n",
    "train_frown = \"../data/lines/frown.png\"\n",
    "train_frown_prompt = \"[1,2,2.41,2.73,3,2.73,2.41,2,1]\"\n",
    "\n",
    "f_train_smiles = delete_all_and_upload(train_smiles)\n",
    "\n",
    "f_train_up = upload_file_to_gemini(train_up)\n",
    "f_train_down = upload_file_to_gemini(train_down)\n",
    "f_train_pos1 = upload_file_to_gemini(train_pos1)\n",
    "f_train_neg1 = upload_file_to_gemini(train_neg1)\n",
    "f_train_u_d_u_d_u = upload_file_to_gemini(train_u_d_u_d_u)\n",
    "f_train_zero = upload_file_to_gemini(train_zero)\n",
    "f_train_zero_up = upload_file_to_gemini(train_zero_up)\n",
    "f_train_zero_down = upload_file_to_gemini(train_zero_down)\n",
    "f_train_smile = upload_file_to_gemini(train_smile)\n",
    "f_train_frown = upload_file_to_gemini(train_frown)\n",
    "\n",
    "\n",
    "test_sin = \"../data/lines/sin.png\"\n",
    "f_test_sin = upload_file_to_gemini(test_sin)\n",
    "\n",
    "\n",
    "\n",
    "first_prompt = \"Return a list of twenty elements, of only the values of the y coordinates for the given drawing of a line, with the y-axis ranging from -1 at the bottom to +1 at the top of the image.\"\n",
    "first_prompt = \"You are an image reader who specializes in the (x,y) cartesian plane. Please describe the image. Parse the image and find enough (x,y) coordinates to make a smooth approximation of the hand-drawn black line on a white background in the each image. The top edge of each image has represents a value of +1 on the y-axis. The bottom edge of each image represents a value of -1 on the y-axis. Return the description and a list of only the y coordinates in JSON format.\"\n",
    "first_prompt = \"You are an expert who extracts numerical data from images, specializing in the (x,y) cartesian plane. Please describe the image. The top-left corner of each image represents the coordinates (0,1). The bottom-left corner of each image represents the coordinates (0,-1). The top-right corner of each image represents the coordinates (20,1). The bottom-right corner of each image represents the coordinates (20,-1). Can you return the description and a list of the (x,y) coordinates in JSON format?\" #  Parse the line in the image and find enough (x,y) coordinates to make a smooth approximation of the hand-drawn black line on a white background. The top-left corner of each image represents the coordinates (0,1). The bottom-left corner of each image represents the coordinates (0,-1). The top-right corner of each image represents the coordinates (20,1). The bottom-right corner of each image represents the coordinates (20,-1). Return the description and a list of only the y coordinates in JSON format.\"\n",
    "first_prompt = \"Describe the line in this image in terms of (x,y) coordinates. The bottom left corner of the image should have coordinates (0, -1) and the top right corner should have coordinates (20, 1). Return the description and a list of the y coordinates in JSON format.\"\n",
    "\n",
    "response = model.generate_content([first_prompt,\n",
    "                        #  f_train_up, train_up_prompt, f_train_down, train_down_prompt,\n",
    "                        #  f_train_pos1 , train_pos1_prompt, f_train_neg1, train_neg1_prompt,\n",
    "                        #  f_train_u_d_u_d_u, train_u_d_u_d_u_prompt, f_train_zero, train_zero_prompt,\n",
    "                        #  f_train_zero_up, train_zero_up_prompt, f_train_zero_down, train_zero_down_prompt,\n",
    "                        #  f_train_smile, train_smile_prompt, f_train_frown, train_frown_prompt,\n",
    "                               f_train_smiles     ])\n",
    "\n",
    "\n",
    "print(\"response:\", response.text)\n",
    "\n",
    "arr = get_raw_array_from_gemini(response)\n",
    "arr"
   ]
  },
  {
   "cell_type": "code",
   "execution_count": 7,
   "metadata": {},
   "outputs": [
    {
     "data": {
      "image/png": "[encoded data removed]",
      "text/plain": [
       "<IPython.core.display.Image object>"
      ]
     },
     "metadata": {
      "image/png": {
       "width": "300"
      }
     },
     "output_type": "display_data"
    },
    {
     "data": {
      "image/png": "[encoded data removed]",
      "text/plain": [
       "<Figure size 640x480 with 1 Axes>"
      ]
     },
     "metadata": {},
     "output_type": "display_data"
    }
   ],
   "source": [
    "\n",
    "display(Image(filename=test_sin, width='300'))\n",
    "plt.close()\n",
    "plot_1d_array(arr, f_test_sin.display_name)\n"
   ]
  },
  {
   "cell_type": "code",
   "execution_count": 8,
   "metadata": {},
   "outputs": [],
   "source": [
    "def get_line_from_image_PIL(img_path):\n",
    "    # This transpose is needed because PIL opens the image with the origin in the top left corner\n",
    "    img = PIL.Image.open(img_path).transpose(PIL.Image.Transpose.FLIP_TOP_BOTTOM)\n",
    "    img = img.convert(\"RGB\")\n",
    "    w, h = img.size\n",
    "    data = img.load()\n",
    "\n",
    "    # will be a list of tuples of x,y coordinates\n",
    "    pieces = []\n",
    "    for x in range(w):\n",
    "        for y in range(h):\n",
    "            if data[x,y] != (255, 255, 255):\n",
    "                #print(x, y)\n",
    "                pieces.append((x, y))\n",
    "\n",
    "    # get the mean y value for each x value\n",
    "    # https://stackoverflow.com/questions/50950231/group-by-with-numpy-mean\n",
    "    np_arr = np.array(pieces)\n",
    "    xs = np.unique(np_arr[:,0])\n",
    "    y_means = [np.mean(np_arr[np_arr[:,0] == x, 1:]) for x in xs]\n",
    "    return (np.array(y_means)-(h/2))/(h/2)\n"
   ]
  },
  {
   "cell_type": "code",
   "execution_count": 9,
   "metadata": {},
   "outputs": [
    {
     "data": {
      "image/png": "[encoded data removed]",
      "text/plain": [
       "<Figure size 640x480 with 1 Axes>"
      ]
     },
     "metadata": {},
     "output_type": "display_data"
    },
    {
     "name": "stdout",
     "output_type": "stream",
     "text": [
      "[-0.90666667 -0.86       -0.84       -0.82       -0.75333333 -0.69333333\n",
      " -0.66       -0.62       -0.57333333 -0.54       -0.52666667 -0.48666667\n",
      " -0.44       -0.40666667 -0.38666667 -0.35333333 -0.32       -0.27333333\n",
      " -0.24666667 -0.22       -0.19333333 -0.16       -0.12666667 -0.10666667\n",
      " -0.08666667 -0.06666667 -0.04666667 -0.02666667 -0.00666667  0.00666667\n",
      "  0.02        0.04        0.06        0.07333333  0.08666667  0.1\n",
      "  0.12        0.14        0.14666667  0.16        0.18        0.19333333\n",
      "  0.20666667  0.22        0.23333333  0.25333333  0.26666667  0.28\n",
      "  0.29333333  0.31333333  0.32        0.32666667  0.34        0.36666667\n",
      "  0.38        0.39333333  0.4         0.41333333  0.44        0.44666667\n",
      "  0.45333333  0.47333333  0.49333333  0.5         0.50666667  0.52666667\n",
      "  0.53333333  0.54666667  0.55333333  0.56666667  0.58        0.58666667\n",
      "  0.6         0.60666667  0.62        0.62        0.63333333  0.64\n",
      "  0.64666667  0.66        0.66        0.67333333  0.67333333  0.68\n",
      "  0.68        0.69333333  0.69333333  0.7         0.7         0.70666667\n",
      "  0.70666667  0.71333333  0.71333333  0.72        0.72        0.72\n",
      "  0.72        0.73333333  0.73333333  0.73333333  0.73333333  0.74\n",
      "  0.74        0.74666667  0.74666667  0.75333333  0.75333333  0.76\n",
      "  0.76        0.76666667  0.77333333  0.77333333  0.77333333  0.78\n",
      "  0.78        0.78        0.78666667  0.78666667  0.78666667  0.8\n",
      "  0.8         0.8         0.8         0.81333333  0.81333333  0.82\n",
      "  0.82666667  0.82666667  0.84        0.84        0.84        0.85333333\n",
      "  0.85333333  0.85333333  0.86666667  0.86666667  0.87333333  0.87333333\n",
      "  0.88        0.88666667  0.89333333  0.89333333  0.89333333  0.9\n",
      "  0.9         0.9         0.9         0.90666667  0.90666667  0.90666667\n",
      "  0.90666667  0.91333333  0.91333333  0.91333333  0.90666667  0.90666667\n",
      "  0.90666667  0.90666667  0.90666667  0.9         0.9         0.9\n",
      "  0.9         0.9         0.9         0.9         0.9         0.9\n",
      "  0.9         0.9         0.9         0.9         0.90666667  0.90666667\n",
      "  0.90666667  0.90666667  0.9         0.9         0.9         0.9\n",
      "  0.9         0.9         0.9         0.9         0.90666667  0.90666667\n",
      "  0.90666667  0.91333333  0.91333333  0.91333333  0.91333333  0.91333333\n",
      "  0.91333333  0.91333333  0.91333333  0.91333333  0.91333333  0.91333333\n",
      "  0.91333333  0.90666667  0.9         0.9         0.89333333  0.88666667\n",
      "  0.87333333  0.87333333  0.86        0.84666667  0.84        0.84\n",
      "  0.82        0.81333333  0.80666667  0.79333333  0.78666667  0.77333333\n",
      "  0.76        0.76        0.74666667  0.72666667  0.72        0.70666667\n",
      "  0.69333333  0.68666667  0.67333333  0.66666667  0.65333333  0.64666667\n",
      "  0.63333333  0.62        0.62        0.60666667  0.59333333  0.59333333\n",
      "  0.58666667  0.58        0.56666667  0.56        0.55333333  0.54\n",
      "  0.53333333  0.52        0.51333333  0.50666667  0.49333333  0.48\n",
      "  0.47333333  0.46666667  0.44        0.44        0.42666667  0.41333333\n",
      "  0.39333333  0.38        0.36666667  0.34666667  0.33333333  0.30666667\n",
      "  0.28666667  0.28        0.25333333  0.22666667  0.20666667  0.18666667\n",
      "  0.16666667  0.13333333  0.11333333  0.1         0.07333333  0.05333333\n",
      "  0.02666667  0.02       -0.02       -0.03333333 -0.06666667 -0.08\n",
      " -0.1        -0.13333333 -0.16       -0.18       -0.21333333 -0.24\n",
      " -0.27333333 -0.3        -0.32666667 -0.35333333 -0.39333333 -0.41333333\n",
      " -0.43333333 -0.46666667 -0.48666667 -0.51333333 -0.52666667 -0.54666667\n",
      " -0.56       -0.58       -0.58666667 -0.6        -0.61333333 -0.62\n",
      " -0.62666667 -0.64666667 -0.64666667 -0.66       -0.66       -0.67333333\n",
      " -0.67333333 -0.68666667 -0.69333333 -0.7        -0.70666667 -0.70666667\n",
      " -0.72       -0.72666667 -0.72666667 -0.73333333 -0.74       -0.74666667\n",
      " -0.74666667 -0.76       -0.76       -0.76       -0.76       -0.76666667\n",
      " -0.77333333 -0.78       -0.78       -0.78666667 -0.79333333 -0.8\n",
      " -0.8        -0.8        -0.80666667 -0.81333333 -0.81333333 -0.81333333\n",
      " -0.82666667 -0.82666667 -0.82666667 -0.83333333 -0.84666667 -0.84666667\n",
      " -0.85333333 -0.86       -0.86666667 -0.87333333 -0.88       -0.88666667\n",
      " -0.89333333 -0.89333333 -0.89333333 -0.9        -0.90666667 -0.90666667\n",
      " -0.91333333 -0.92       -0.92       -0.92       -0.92       -0.92666667\n",
      " -0.92666667 -0.92666667 -0.92666667 -0.92666667 -0.92666667 -0.92666667\n",
      " -0.92666667 -0.93333333 -0.93333333 -0.93333333 -0.94       -0.94\n",
      " -0.94       -0.94       -0.94666667 -0.94666667 -0.94666667 -0.94666667\n",
      " -0.95333333 -0.95333333 -0.95333333 -0.95333333 -0.95333333 -0.95333333\n",
      " -0.95333333 -0.95333333 -0.95333333 -0.95333333 -0.95333333 -0.95333333\n",
      " -0.95333333 -0.95333333 -0.95333333 -0.95333333 -0.95333333 -0.95333333\n",
      " -0.95333333 -0.95333333 -0.95333333 -0.95333333 -0.95333333 -0.95333333\n",
      " -0.95333333 -0.95333333 -0.95333333 -0.95333333 -0.95333333 -0.95333333\n",
      " -0.95333333 -0.95333333 -0.95333333 -0.95333333 -0.95333333 -0.95333333\n",
      " -0.95333333 -0.95333333 -0.95333333 -0.95333333 -0.95333333 -0.95333333\n",
      " -0.95333333 -0.95333333 -0.95333333 -0.95333333 -0.95333333 -0.95333333\n",
      " -0.95333333 -0.95333333 -0.95333333 -0.95333333 -0.95333333 -0.95333333\n",
      " -0.95333333 -0.95333333 -0.95333333 -0.95333333 -0.95333333 -0.95333333\n",
      " -0.94666667 -0.94666667 -0.94666667 -0.94       -0.94       -0.94\n",
      " -0.94       -0.94       -0.93333333 -0.93333333 -0.93333333 -0.93333333\n",
      " -0.92666667 -0.92666667 -0.92666667 -0.92666667 -0.92666667 -0.92\n",
      " -0.92       -0.92       -0.91333333 -0.91333333 -0.90666667 -0.90666667\n",
      " -0.90666667 -0.89333333 -0.89333333 -0.89333333 -0.89333333 -0.88\n",
      " -0.88       -0.88       -0.86666667 -0.86666667 -0.86666667 -0.86666667\n",
      " -0.86       -0.86       -0.86       -0.85333333 -0.85333333 -0.84666667\n",
      " -0.84       -0.83333333 -0.83333333 -0.82666667 -0.82       -0.81333333\n",
      " -0.80666667 -0.8        -0.79333333 -0.78       -0.76666667 -0.76666667\n",
      " -0.75333333 -0.74       -0.73333333 -0.72       -0.71333333 -0.7\n",
      " -0.68666667 -0.68       -0.66666667 -0.64666667 -0.63333333 -0.62666667\n",
      " -0.62       -0.6        -0.58       -0.56666667 -0.55333333 -0.54\n",
      " -0.51333333 -0.51333333 -0.48666667 -0.47333333 -0.44       -0.43333333\n",
      " -0.40666667 -0.37333333 -0.35333333 -0.34       -0.31333333 -0.27333333\n",
      " -0.25333333 -0.24       -0.2        -0.16       -0.12       -0.1\n",
      " -0.06       -0.02666667  0.02666667  0.05333333  0.08        0.13333333\n",
      "  0.16666667  0.21333333  0.25333333  0.32        0.36666667  0.42\n",
      "  0.46        0.53333333  0.58666667  0.65333333  0.68        0.74\n",
      "  0.82        0.84666667  0.86666667  0.9       ]\n"
     ]
    }
   ],
   "source": [
    "plt.plot(get_line_from_image_PIL(train_pos1))\n",
    "plt.ylim(-1.2, 1.2)\n",
    "plt.show()\n",
    "print(get_line_from_image_PIL(test_sin))"
   ]
  }
 ],
 "metadata": {
  "kernelspec": {
   "display_name": ".venv",
   "language": "python",
   "name": "python3"
  },
  "language_info": {
   "codemirror_mode": {
    "name": "ipython",
    "version": 3
   },
   "file_extension": ".py",
   "mimetype": "text/x-python",
   "name": "python",
   "nbconvert_exporter": "python",
   "pygments_lexer": "ipython3",
   "version": "3.11.2"
  }
 },
 "nbformat": 4,
 "nbformat_minor": 2
}
